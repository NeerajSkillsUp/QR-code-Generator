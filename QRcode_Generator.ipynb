{
  "nbformat": 4,
  "nbformat_minor": 0,
  "metadata": {
    "colab": {
      "provenance": []
    },
    "kernelspec": {
      "name": "python3",
      "display_name": "Python 3"
    },
    "language_info": {
      "name": "python"
    }
  },
  "cells": [
    {
      "cell_type": "code",
      "execution_count": 5,
      "metadata": {
        "id": "0z6JrUwaAdEw",
        "colab": {
          "base_uri": "https://localhost:8080/"
        },
        "outputId": "9df00326-6dc5-430f-ca99-b79971ae3cdf"
      },
      "outputs": [
        {
          "output_type": "stream",
          "name": "stdout",
          "text": [
            "Requirement already satisfied: pyqrcode in /usr/local/lib/python3.12/dist-packages (1.2.1)\n",
            "Requirement already satisfied: pypng in /usr/local/lib/python3.12/dist-packages (0.20220715.0)\n"
          ]
        }
      ],
      "source": [
        "!pip install pyqrcode pypng"
      ]
    },
    {
      "cell_type": "code",
      "source": [
        "import pyqrcode\n",
        "data = \"https://github.com/NeerajSkillsUp\"\n",
        "qr = pyqrcode.create(data)\n",
        "qr.png(\"Neeraj_Github_QR.png\",scale=5)"
      ],
      "metadata": {
        "id": "81OzB-oIEPQy"
      },
      "execution_count": 7,
      "outputs": []
    }
  ]
}